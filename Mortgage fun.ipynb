{
 "cells": [
  {
   "cell_type": "code",
   "execution_count": null,
   "id": "ce8d3204-09a3-4fcf-a2f8-b9c9ac56e1c6",
   "metadata": {},
   "outputs": [],
   "source": [
    "from pandas import *\n",
    "from datetime import datetime\n",
    "import matplotlib.pyplot as plt\n",
    "\n",
    "df = read_csv('Mortgage vs business vs all.csv')\n",
    "\n",
    "## The column names are way too long, and the values are too high to quickly digest. Let's rename the columns and store the data in £billions, not just £.\n",
    "\n",
    "MORTGAGE='Secured lending to individuals (£b)'\n",
    "BUSINESS = 'Lending to non-financial businesses (£b)'\n",
    "\n",
    "def milToBil (value):\n",
    "    return value/1000\n",
    "\n",
    "df[MORTGAGE] = df['Monthly amounts outstanding of monetary financial institutions sterling net secured lending to individuals (in sterling millions) seasonally adjusted'].apply(milToBil)\n",
    "\n",
    "df[BUSINESS] = df['Monthly amounts outstanding of monetary financial institutions sterling net lending to private non-financial corporations (in sterling millions) seasonally adjusted'].apply(milToBil)\n",
    "\n",
    "df = df[['Date', MORTGAGE, BUSINESS]]\n",
    "\n",
    "## The data contain a column for each month, and I'm only interested in the yearly average. \n",
    "# Let's replace the 'Date' column with a 'Year' column, stored as Datetime, not a string.\n",
    "# I'll strip the 'Date' column to its last two digits, then add the correct century. \n",
    "# This data covers the period 1998-2024, so we can find the century by the size of the number.\n",
    "\n",
    "df['Year'] = df['Date'].str[-2:].astype(int)\n",
    "df['Year'] = df['Year'].apply(lambda x: x + 2000 if x < 50 else x + 1900)\n",
    "df = df[['Year',MORTGAGE,BUSINESS]]\n",
    "df2 = df.groupby('Year').mean().reset_index()\n",
    "\n",
    "## The data is still in reverse chronological order. Let's change that.\n",
    "\n",
    "df2 = df2.iloc[::-1]\n"
   ]
  },
  {
   "cell_type": "code",
   "execution_count": null,
   "id": "38430735-3d36-4395-9c8f-ee75d57ee30d",
   "metadata": {},
   "outputs": [],
   "source": [
    "## Now lets load and clean the GDP data.\n",
    "\n",
    "gdp = read_excel('gdp uk.xlsx')\n",
    "gdp2 = gdp[gdp['Year']>1997]\n",
    "gdp2\n",
    "\n",
    "def bil (value):\n",
    "    return round((value/1000000000),2)\n",
    "\n",
    "gdp2['gdp (£b)'] = gdp2['gdp (£ current)'].apply(bil)\n",
    "gdp2 = gdp2[['gdp (£b)','Year']]\n"
   ]
  },
  {
   "cell_type": "code",
   "execution_count": null,
   "id": "441e2f98-0c45-4d0f-8e20-4658b309fcfd",
   "metadata": {},
   "outputs": [],
   "source": [
    "## Lets merge the two data frames and express the lending as a percentage of GDP\n",
    "\n",
    "MORTPC = 'Mortgage as % of GDP'\n",
    "BUSPC = 'Non-financial lending as % of GDP'\n",
    "df3 = merge(gdp2,df2,on=['Year'],how='outer')\n",
    "df3[MORTPC] = (df3[MORTGAGE]/df3['gdp (£b)']) * 100\n",
    "df3[BUSPC] = (df3[BUSINESS]/df3['gdp (£b)']) * 100\n",
    "df4 = df3\n",
    "df4.index = df4['Year']\n",
    "df4[[MORTPC, BUSPC]].plot(grid=True, ylim=(0, 100), figsize=(8,5))\n"
   ]
  },
  {
   "cell_type": "code",
   "execution_count": null,
   "id": "db7c6dff-9ee6-4d92-b89f-ed1963f40887",
   "metadata": {},
   "outputs": [],
   "source": [
    "## Now lets load and format the data for total M4ex, from the Bank of England\n",
    "\n",
    "m4 = read_csv(\"M4ex 1998-2024.csv\")\n",
    "m4['M4 (£b)'] = m4['Monthly amounts outstanding of M4 (monetary financial institutions sterling M4 liabilities to private sector) (in sterling millions) seasonally adjusted'].apply(milToBil)\n",
    "m4['Year'] = m4['Date'].str[-2:].astype(int)\n",
    "m4['Year'] = m4['Year'].apply(lambda x: x + 2000 if x < 50 else x + 1900)\n",
    "m4['Year'] = pd.to_datetime(m4['Year'], format='%Y')\n",
    "m4 = m4[['Year','M4 (£b)']]\n",
    "m4_annual = m4.groupby('Year').mean().reset_index()\n",
    "\n"
   ]
  },
  {
   "cell_type": "code",
   "execution_count": null,
   "id": "364ed105-641b-40be-8263-565a7c67d731",
   "metadata": {},
   "outputs": [],
   "source": [
    "## Now lets merge it all and plot the value of mortgage vs all outstanding m4\n",
    "\n",
    "df4 = df4[['gdp (£b)',MORTGAGE, BUSINESS, MORTPC, BUSPC]]\n",
    "df4.reset_index()\n",
    "all = merge(m4_annual, df4, on=('Year'), how='outer')\n",
    "all.index = all['Year']\n",
    "lendingM4Annual = all.groupby('Year').mean()\n",
    "lendingM4Annual[[MORTGAGE, 'M4 (£b)']].plot(grid=True, figsize=(8,5))\n",
    "\n"
   ]
  },
  {
   "cell_type": "code",
   "execution_count": null,
   "id": "fb29caa3-5049-4ca0-bdc4-c19c84d96b65",
   "metadata": {},
   "outputs": [],
   "source": [
    "## Now lets load the house price:wage data from the ONS\n",
    "\n",
    "houseWage = read_csv('House prices and wages Ingerland.csv')\n",
    "houseWage['Year'] = houseWage['Year:']\n",
    "houseWageMultiplier = HouseWage[['Year','House price:wage multiplier']]\n",
    "houseWageMultiplier['Year'] = pd.to_datetime(houseWageMultiplier['Year'], format='%Y')\n",
    "lendingm4Annual.reset_index()\n",
    "all2 = merge(lendingM4Annual, houseWageMultiplier, on=('Year'), how='outer')\n",
    "multiplier_vs_mortgage_pc = all2[['Year','Mortgage as % of GDP','House price:wage multiplier']]\n",
    "multiplier_vs_mortgage_pc.index = multiplier_vs_mortgage_pc['Year']\n",
    "\n",
    "## Now we need to plot the house price and the mortgage figures, using different axes\n",
    "\n",
    "fig, ax1 = plt.subplots(figsize=(8,5))\n",
    "\n",
    "ax1.set_xlabel('Year')\n",
    "ax1.set_ylabel('Mortgage as % of GDP', color='tab:blue')\n",
    "ax1.plot(multiplier_vs_mortgage_pc.index, multiplier_vs_mortgage_pc['Mortgage as % of GDP'], color='tab:blue')\n",
    "ax1.tick_params(axis='y', labelcolor='tab:blue')\n",
    "ax1.set_ylim(0, 100) \n",
    "\n",
    "ax2 = ax1.twinx()\n",
    "ax2.set_ylabel('House price:wage multiplier', color='tab:red')\n",
    "ax2.plot(multiplier_vs_mortgage_pc.index, multiplier_vs_mortgage_pc['House price:wage multiplier'], color='tab:red')\n",
    "ax2.tick_params(axis='y', labelcolor='tab:red')\n",
    "ax2.set_ylim(0, 10)\n",
    "\n",
    "plt.title('Outstanding value of residential mortgages as % of GDP vs House price:wage multiplier, 1998-2022, England')\n",
    "\n",
    "plt.show()"
   ]
  }
 ],
 "metadata": {
  "kernelspec": {
   "display_name": "Python 3 (ipykernel)",
   "language": "python",
   "name": "python3"
  },
  "language_info": {
   "codemirror_mode": {
    "name": "ipython",
    "version": 3
   },
   "file_extension": ".py",
   "mimetype": "text/x-python",
   "name": "python",
   "nbconvert_exporter": "python",
   "pygments_lexer": "ipython3",
   "version": "3.11.7"
  }
 },
 "nbformat": 4,
 "nbformat_minor": 5
}
