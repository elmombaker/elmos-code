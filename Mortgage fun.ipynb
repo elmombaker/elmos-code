{
 "cells": [
  {
   "cell_type": "code",
   "execution_count": null,
   "id": "a6e53bb6-ace9-4d47-a9e2-05d836bcedc7",
   "metadata": {},
   "outputs": [],
   "source": [
    "from pandas import *\n",
    "\n",
    "df = read_csv('Mortgage vs business vs all.csv')\n",
    "\n",
    "def milToBil (value):\n",
    "    return value/1000\n",
    "\n",
    "df['Secured lending to individuals(£m)'] = df['Monthly amounts outstanding of monetary financial institutions sterling net secured lending to individuals (in sterling millions) seasonally adjusted']\n",
    "\n",
    "df['Lending to non-financial businesses (£m)'] = df['Monthly amounts outstanding of monetary financial institutions sterling net lending to private non-financial corporations (in sterling millions) seasonally adjusted']\n",
    "\n",
    "df['Lending to non-financial businesses (£b)'] = df['Lending to non-financial businesses (£m)'].apply(milToBil)\n",
    "\n",
    "df['Secured lending to individuals (£b)'] = df['Secured lending to individuals(£m)'].apply(milToBil)\n",
    "\n",
    "df = df[['Date','Lending to non-financial businesses (£b)','Secured lending to individuals (£b)']]\n",
    "\n",
    "df"
   ]
  }
 ],
 "metadata": {
  "kernelspec": {
   "display_name": "Python 3 (ipykernel)",
   "language": "python",
   "name": "python3"
  },
  "language_info": {
   "codemirror_mode": {
    "name": "ipython",
    "version": 3
   },
   "file_extension": ".py",
   "mimetype": "text/x-python",
   "name": "python",
   "nbconvert_exporter": "python",
   "pygments_lexer": "ipython3",
   "version": "3.11.7"
  }
 },
 "nbformat": 4,
 "nbformat_minor": 5
}
